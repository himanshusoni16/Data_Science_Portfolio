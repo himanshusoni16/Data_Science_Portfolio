{
 "cells": [
  {
   "cell_type": "code",
   "execution_count": 2,
   "metadata": {
    "ExecuteTime": {
     "end_time": "2020-11-12T16:55:11.819660Z",
     "start_time": "2020-11-12T16:55:07.926529Z"
    },
    "code_folding": [],
    "run_control": {
     "marked": false
    },
    "slideshow": {
     "slide_type": "-"
    }
   },
   "outputs": [],
   "source": [
    "# linear algebra\n",
    "import numpy as np \n",
    "\n",
    "# data processing\n",
    "import pandas as pd \n",
    "\n",
    "# data visualization\n",
    "import seaborn as sns\n",
    "%matplotlib inline\n",
    "from matplotlib import pyplot as plt\n",
    "from matplotlib import style"
   ]
  },
  {
   "cell_type": "code",
   "execution_count": 4,
   "metadata": {
    "ExecuteTime": {
     "end_time": "2020-11-12T16:55:24.413413Z",
     "start_time": "2020-11-12T16:55:24.216537Z"
    }
   },
   "outputs": [
    {
     "data": {
      "text/html": [
       "<div>\n",
       "<style scoped>\n",
       "    .dataframe tbody tr th:only-of-type {\n",
       "        vertical-align: middle;\n",
       "    }\n",
       "\n",
       "    .dataframe tbody tr th {\n",
       "        vertical-align: top;\n",
       "    }\n",
       "\n",
       "    .dataframe thead th {\n",
       "        text-align: right;\n",
       "    }\n",
       "</style>\n",
       "<table border=\"1\" class=\"dataframe\">\n",
       "  <thead>\n",
       "    <tr style=\"text-align: right;\">\n",
       "      <th></th>\n",
       "      <th>fixed acidity</th>\n",
       "      <th>volatile acidity</th>\n",
       "      <th>citric acid</th>\n",
       "      <th>residual sugar</th>\n",
       "      <th>chlorides</th>\n",
       "      <th>free sulfur dioxide</th>\n",
       "      <th>total sulfur dioxide</th>\n",
       "      <th>density</th>\n",
       "      <th>pH</th>\n",
       "      <th>sulphates</th>\n",
       "      <th>alcohol</th>\n",
       "      <th>quality</th>\n",
       "    </tr>\n",
       "  </thead>\n",
       "  <tbody>\n",
       "    <tr>\n",
       "      <th>0</th>\n",
       "      <td>7.4</td>\n",
       "      <td>0.70</td>\n",
       "      <td>0.00</td>\n",
       "      <td>1.9</td>\n",
       "      <td>0.076</td>\n",
       "      <td>11.0</td>\n",
       "      <td>34.0</td>\n",
       "      <td>0.9978</td>\n",
       "      <td>3.51</td>\n",
       "      <td>0.56</td>\n",
       "      <td>9.4</td>\n",
       "      <td>5</td>\n",
       "    </tr>\n",
       "    <tr>\n",
       "      <th>1</th>\n",
       "      <td>7.8</td>\n",
       "      <td>0.88</td>\n",
       "      <td>0.00</td>\n",
       "      <td>2.6</td>\n",
       "      <td>0.098</td>\n",
       "      <td>25.0</td>\n",
       "      <td>67.0</td>\n",
       "      <td>0.9968</td>\n",
       "      <td>3.20</td>\n",
       "      <td>0.68</td>\n",
       "      <td>9.8</td>\n",
       "      <td>5</td>\n",
       "    </tr>\n",
       "    <tr>\n",
       "      <th>2</th>\n",
       "      <td>7.8</td>\n",
       "      <td>0.76</td>\n",
       "      <td>0.04</td>\n",
       "      <td>2.3</td>\n",
       "      <td>0.092</td>\n",
       "      <td>15.0</td>\n",
       "      <td>54.0</td>\n",
       "      <td>0.9970</td>\n",
       "      <td>3.26</td>\n",
       "      <td>0.65</td>\n",
       "      <td>9.8</td>\n",
       "      <td>5</td>\n",
       "    </tr>\n",
       "    <tr>\n",
       "      <th>3</th>\n",
       "      <td>11.2</td>\n",
       "      <td>0.28</td>\n",
       "      <td>0.56</td>\n",
       "      <td>1.9</td>\n",
       "      <td>0.075</td>\n",
       "      <td>17.0</td>\n",
       "      <td>60.0</td>\n",
       "      <td>0.9980</td>\n",
       "      <td>3.16</td>\n",
       "      <td>0.58</td>\n",
       "      <td>9.8</td>\n",
       "      <td>6</td>\n",
       "    </tr>\n",
       "    <tr>\n",
       "      <th>4</th>\n",
       "      <td>7.4</td>\n",
       "      <td>0.70</td>\n",
       "      <td>0.00</td>\n",
       "      <td>1.9</td>\n",
       "      <td>0.076</td>\n",
       "      <td>11.0</td>\n",
       "      <td>34.0</td>\n",
       "      <td>0.9978</td>\n",
       "      <td>3.51</td>\n",
       "      <td>0.56</td>\n",
       "      <td>9.4</td>\n",
       "      <td>5</td>\n",
       "    </tr>\n",
       "  </tbody>\n",
       "</table>\n",
       "</div>"
      ],
      "text/plain": [
       "   fixed acidity  volatile acidity  citric acid  residual sugar  chlorides  \\\n",
       "0            7.4              0.70         0.00             1.9      0.076   \n",
       "1            7.8              0.88         0.00             2.6      0.098   \n",
       "2            7.8              0.76         0.04             2.3      0.092   \n",
       "3           11.2              0.28         0.56             1.9      0.075   \n",
       "4            7.4              0.70         0.00             1.9      0.076   \n",
       "\n",
       "   free sulfur dioxide  total sulfur dioxide  density    pH  sulphates  \\\n",
       "0                 11.0                  34.0   0.9978  3.51       0.56   \n",
       "1                 25.0                  67.0   0.9968  3.20       0.68   \n",
       "2                 15.0                  54.0   0.9970  3.26       0.65   \n",
       "3                 17.0                  60.0   0.9980  3.16       0.58   \n",
       "4                 11.0                  34.0   0.9978  3.51       0.56   \n",
       "\n",
       "   alcohol  quality  \n",
       "0      9.4        5  \n",
       "1      9.8        5  \n",
       "2      9.8        5  \n",
       "3      9.8        6  \n",
       "4      9.4        5  "
      ]
     },
     "execution_count": 4,
     "metadata": {},
     "output_type": "execute_result"
    }
   ],
   "source": [
    "# read the date set by using pandas (read.csv())\n",
    "\n",
    "df_wines = pd.read_csv(r\"C:/Users/HP/Desktop/dataset/redwine.csv\", header=0, sep = \";\")\n",
    "df_wines.head(5)\n"
   ]
  },
  {
   "cell_type": "code",
   "execution_count": 5,
   "metadata": {
    "ExecuteTime": {
     "end_time": "2020-11-12T16:55:35.590017Z",
     "start_time": "2020-11-12T16:55:35.574027Z"
    }
   },
   "outputs": [
    {
     "data": {
      "text/plain": [
       "fixed acidity           float64\n",
       "volatile acidity        float64\n",
       "citric acid             float64\n",
       "residual sugar          float64\n",
       "chlorides               float64\n",
       "free sulfur dioxide     float64\n",
       "total sulfur dioxide    float64\n",
       "density                 float64\n",
       "pH                      float64\n",
       "sulphates               float64\n",
       "alcohol                 float64\n",
       "quality                   int64\n",
       "dtype: object"
      ]
     },
     "execution_count": 5,
     "metadata": {},
     "output_type": "execute_result"
    }
   ],
   "source": [
    "#Lets chcek the datatypes of each column\n",
    "df_wines.dtypes\n"
   ]
  },
  {
   "cell_type": "code",
   "execution_count": 4,
   "metadata": {
    "ExecuteTime": {
     "end_time": "2020-11-08T12:48:26.235821Z",
     "start_time": "2020-11-08T12:48:26.107900Z"
    }
   },
   "outputs": [
    {
     "name": "stdout",
     "output_type": "stream",
     "text": [
      "print the all colums in the Wine dataset :- \n",
      " \n",
      "\n",
      "['fixed acidity' 'volatile acidity' 'citric acid' 'residual sugar'\n",
      " 'chlorides' 'free sulfur dioxide' 'total sulfur dioxide' 'density' 'pH'\n",
      " 'sulphates' 'alcohol' 'quality']\n"
     ]
    }
   ],
   "source": [
    "## print the columns of the data set \n",
    "print(\"print the all colums in the Wine dataset :- \\n \")\n",
    "print()\n",
    "print(df_wines.columns.values)"
   ]
  },
  {
   "cell_type": "code",
   "execution_count": 5,
   "metadata": {
    "ExecuteTime": {
     "end_time": "2020-11-08T12:48:26.389726Z",
     "start_time": "2020-11-08T12:48:26.244817Z"
    }
   },
   "outputs": [
    {
     "name": "stdout",
     "output_type": "stream",
     "text": [
      "basic information of the dataset :- \n",
      " \n",
      "\n",
      "<class 'pandas.core.frame.DataFrame'>\n",
      "RangeIndex: 1599 entries, 0 to 1598\n",
      "Data columns (total 12 columns):\n",
      " #   Column                Non-Null Count  Dtype  \n",
      "---  ------                --------------  -----  \n",
      " 0   fixed acidity         1599 non-null   float64\n",
      " 1   volatile acidity      1599 non-null   float64\n",
      " 2   citric acid           1599 non-null   float64\n",
      " 3   residual sugar        1599 non-null   float64\n",
      " 4   chlorides             1599 non-null   float64\n",
      " 5   free sulfur dioxide   1599 non-null   float64\n",
      " 6   total sulfur dioxide  1599 non-null   float64\n",
      " 7   density               1599 non-null   float64\n",
      " 8   pH                    1599 non-null   float64\n",
      " 9   sulphates             1599 non-null   float64\n",
      " 10  alcohol               1599 non-null   float64\n",
      " 11  quality               1599 non-null   int64  \n",
      "dtypes: float64(11), int64(1)\n",
      "memory usage: 150.0 KB\n",
      "None\n"
     ]
    }
   ],
   "source": [
    "## check the basic information of the dataset \n",
    "print(\"basic information of the dataset :- \\n \")\n",
    "print()\n",
    "print(df_wines.info())"
   ]
  },
  {
   "cell_type": "code",
   "execution_count": 6,
   "metadata": {
    "ExecuteTime": {
     "end_time": "2020-11-08T12:48:26.677047Z",
     "start_time": "2020-11-08T12:48:26.399720Z"
    }
   },
   "outputs": [
    {
     "name": "stdout",
     "output_type": "stream",
     "text": [
      "Lets check the summary of the data set\n",
      "\n",
      "       fixed acidity  volatile acidity  citric acid  residual sugar  \\\n",
      "count    1599.000000       1599.000000  1599.000000     1599.000000   \n",
      "mean        8.319637          0.527821     0.270976        2.538806   \n",
      "std         1.741096          0.179060     0.194801        1.409928   \n",
      "min         4.600000          0.120000     0.000000        0.900000   \n",
      "25%         7.100000          0.390000     0.090000        1.900000   \n",
      "50%         7.900000          0.520000     0.260000        2.200000   \n",
      "75%         9.200000          0.640000     0.420000        2.600000   \n",
      "max        15.900000          1.580000     1.000000       15.500000   \n",
      "\n",
      "         chlorides  free sulfur dioxide  total sulfur dioxide      density  \\\n",
      "count  1599.000000          1599.000000           1599.000000  1599.000000   \n",
      "mean      0.087467            15.874922             46.467792     0.996747   \n",
      "std       0.047065            10.460157             32.895324     0.001887   \n",
      "min       0.012000             1.000000              6.000000     0.990070   \n",
      "25%       0.070000             7.000000             22.000000     0.995600   \n",
      "50%       0.079000            14.000000             38.000000     0.996750   \n",
      "75%       0.090000            21.000000             62.000000     0.997835   \n",
      "max       0.611000            72.000000            289.000000     1.003690   \n",
      "\n",
      "                pH    sulphates      alcohol      quality  \n",
      "count  1599.000000  1599.000000  1599.000000  1599.000000  \n",
      "mean      3.311113     0.658149    10.422983     5.636023  \n",
      "std       0.154386     0.169507     1.065668     0.807569  \n",
      "min       2.740000     0.330000     8.400000     3.000000  \n",
      "25%       3.210000     0.550000     9.500000     5.000000  \n",
      "50%       3.310000     0.620000    10.200000     6.000000  \n",
      "75%       3.400000     0.730000    11.100000     6.000000  \n",
      "max       4.010000     2.000000    14.900000     8.000000  \n"
     ]
    }
   ],
   "source": [
    "## summary of the data set by using describe function  \n",
    "\n",
    "print(\"Lets check the summary of the data set\")\n",
    "print()\n",
    "print(df_wines.describe())"
   ]
  },
  {
   "cell_type": "code",
   "execution_count": 7,
   "metadata": {
    "ExecuteTime": {
     "end_time": "2020-11-08T12:48:27.067796Z",
     "start_time": "2020-11-08T12:48:26.686036Z"
    }
   },
   "outputs": [
    {
     "data": {
      "text/html": [
       "<div>\n",
       "<style scoped>\n",
       "    .dataframe tbody tr th:only-of-type {\n",
       "        vertical-align: middle;\n",
       "    }\n",
       "\n",
       "    .dataframe tbody tr th {\n",
       "        vertical-align: top;\n",
       "    }\n",
       "\n",
       "    .dataframe thead th {\n",
       "        text-align: right;\n",
       "    }\n",
       "</style>\n",
       "<table border=\"1\" class=\"dataframe\">\n",
       "  <thead>\n",
       "    <tr style=\"text-align: right;\">\n",
       "      <th></th>\n",
       "      <th>Total</th>\n",
       "      <th>%</th>\n",
       "    </tr>\n",
       "  </thead>\n",
       "  <tbody>\n",
       "    <tr>\n",
       "      <th>quality</th>\n",
       "      <td>0</td>\n",
       "      <td>0.0</td>\n",
       "    </tr>\n",
       "    <tr>\n",
       "      <th>alcohol</th>\n",
       "      <td>0</td>\n",
       "      <td>0.0</td>\n",
       "    </tr>\n",
       "    <tr>\n",
       "      <th>sulphates</th>\n",
       "      <td>0</td>\n",
       "      <td>0.0</td>\n",
       "    </tr>\n",
       "    <tr>\n",
       "      <th>pH</th>\n",
       "      <td>0</td>\n",
       "      <td>0.0</td>\n",
       "    </tr>\n",
       "    <tr>\n",
       "      <th>density</th>\n",
       "      <td>0</td>\n",
       "      <td>0.0</td>\n",
       "    </tr>\n",
       "    <tr>\n",
       "      <th>total sulfur dioxide</th>\n",
       "      <td>0</td>\n",
       "      <td>0.0</td>\n",
       "    </tr>\n",
       "    <tr>\n",
       "      <th>free sulfur dioxide</th>\n",
       "      <td>0</td>\n",
       "      <td>0.0</td>\n",
       "    </tr>\n",
       "    <tr>\n",
       "      <th>chlorides</th>\n",
       "      <td>0</td>\n",
       "      <td>0.0</td>\n",
       "    </tr>\n",
       "    <tr>\n",
       "      <th>residual sugar</th>\n",
       "      <td>0</td>\n",
       "      <td>0.0</td>\n",
       "    </tr>\n",
       "    <tr>\n",
       "      <th>citric acid</th>\n",
       "      <td>0</td>\n",
       "      <td>0.0</td>\n",
       "    </tr>\n",
       "    <tr>\n",
       "      <th>volatile acidity</th>\n",
       "      <td>0</td>\n",
       "      <td>0.0</td>\n",
       "    </tr>\n",
       "    <tr>\n",
       "      <th>fixed acidity</th>\n",
       "      <td>0</td>\n",
       "      <td>0.0</td>\n",
       "    </tr>\n",
       "  </tbody>\n",
       "</table>\n",
       "</div>"
      ],
      "text/plain": [
       "                      Total    %\n",
       "quality                   0  0.0\n",
       "alcohol                   0  0.0\n",
       "sulphates                 0  0.0\n",
       "pH                        0  0.0\n",
       "density                   0  0.0\n",
       "total sulfur dioxide      0  0.0\n",
       "free sulfur dioxide       0  0.0\n",
       "chlorides                 0  0.0\n",
       "residual sugar            0  0.0\n",
       "citric acid               0  0.0\n",
       "volatile acidity          0  0.0\n",
       "fixed acidity             0  0.0"
      ]
     },
     "execution_count": 7,
     "metadata": {},
     "output_type": "execute_result"
    }
   ],
   "source": [
    "## Let’s take a more detailed look at what data is actually missing \n",
    "\n",
    "total = df_wines.isnull().sum().sort_values(ascending=False)\n",
    "\n",
    "percent_1 = df_wines.isnull().sum()/df_wines.isnull().count()*100\n",
    "\n",
    "percent_2 = (round(percent_1, 1)).sort_values(ascending=False)\n",
    "\n",
    "missing_data = pd.concat([total, percent_2], axis=1, keys=['Total', '%'])\n",
    "\n",
    "missing_data.head(15)"
   ]
  },
  {
   "cell_type": "code",
   "execution_count": 8,
   "metadata": {
    "ExecuteTime": {
     "end_time": "2020-11-08T12:48:27.110766Z",
     "start_time": "2020-11-08T12:48:27.081783Z"
    }
   },
   "outputs": [
    {
     "name": "stdout",
     "output_type": "stream",
     "text": [
      " NaN value in the data set column wise :- \n",
      "  fixed acidity           0\n",
      "volatile acidity        0\n",
      "citric acid             0\n",
      "residual sugar          0\n",
      "chlorides               0\n",
      "free sulfur dioxide     0\n",
      "total sulfur dioxide    0\n",
      "density                 0\n",
      "pH                      0\n",
      "sulphates               0\n",
      "alcohol                 0\n",
      "quality                 0\n",
      "dtype: int64\n",
      "\n",
      " Total NaN value in the data set  :- \n",
      "  0\n"
     ]
    }
   ],
   "source": [
    "### check the missing value of the dataset column wise or total\n",
    "print(\" NaN value in the data set column wise :- \\n \" , df_wines.isnull().sum())\n",
    "print()\n",
    "print(\" Total NaN value in the data set  :- \\n \" , df_wines.isnull().sum().sum())"
   ]
  },
  {
   "cell_type": "code",
   "execution_count": 9,
   "metadata": {
    "ExecuteTime": {
     "end_time": "2020-11-08T12:50:48.542695Z",
     "start_time": "2020-11-08T12:48:27.121761Z"
    }
   },
   "outputs": [
    {
     "data": {
      "image/png": "[encoded data removed]",
      "text/plain": [
       "<Figure size 432x288 with 2 Axes>"
      ]
     },
     "metadata": {
      "needs_background": "light"
     },
     "output_type": "display_data"
    }
   ],
   "source": [
    "## ## check visualization of the null value using the seaborn library\n",
    "\n",
    "import seaborn as sns\n",
    "import matplotlib.pyplot as plt\n",
    "\n",
    "sns.heatmap(df_wines.isnull(),annot=True)\n",
    "plt.show()"
   ]
  },
  {
   "cell_type": "code",
   "execution_count": 53,
   "metadata": {
    "ExecuteTime": {
     "end_time": "2020-11-08T15:00:01.645648Z",
     "start_time": "2020-11-08T14:59:58.063086Z"
    }
   },
   "outputs": [
    {
     "data": {
      "image/png": "[encoded data removed]",
      "text/plain": [
       "<Figure size 432x288 with 2 Axes>"
      ]
     },
     "metadata": {
      "needs_background": "light"
     },
     "output_type": "display_data"
    }
   ],
   "source": [
    "# lets check the correlation by heatmap\n",
    "\n",
    "sns.heatmap(df_wines.corr() ,annot= True)\n",
    "\n",
    "plt.show()"
   ]
  },
  {
   "cell_type": "code",
   "execution_count": 11,
   "metadata": {
    "ExecuteTime": {
     "end_time": "2020-11-08T12:53:35.298701Z",
     "start_time": "2020-11-08T12:53:35.192765Z"
    }
   },
   "outputs": [
    {
     "data": {
      "text/html": [
       "<div>\n",
       "<style scoped>\n",
       "    .dataframe tbody tr th:only-of-type {\n",
       "        vertical-align: middle;\n",
       "    }\n",
       "\n",
       "    .dataframe tbody tr th {\n",
       "        vertical-align: top;\n",
       "    }\n",
       "\n",
       "    .dataframe thead th {\n",
       "        text-align: right;\n",
       "    }\n",
       "</style>\n",
       "<table border=\"1\" class=\"dataframe\">\n",
       "  <thead>\n",
       "    <tr style=\"text-align: right;\">\n",
       "      <th></th>\n",
       "      <th>fixed acidity</th>\n",
       "      <th>volatile acidity</th>\n",
       "      <th>citric acid</th>\n",
       "      <th>residual sugar</th>\n",
       "      <th>chlorides</th>\n",
       "      <th>free sulfur dioxide</th>\n",
       "      <th>total sulfur dioxide</th>\n",
       "      <th>density</th>\n",
       "      <th>pH</th>\n",
       "      <th>sulphates</th>\n",
       "      <th>alcohol</th>\n",
       "      <th>quality</th>\n",
       "    </tr>\n",
       "  </thead>\n",
       "  <tbody>\n",
       "    <tr>\n",
       "      <th>fixed acidity</th>\n",
       "      <td>1.000000</td>\n",
       "      <td>-0.256131</td>\n",
       "      <td>0.671703</td>\n",
       "      <td>0.114777</td>\n",
       "      <td>0.093705</td>\n",
       "      <td>-0.153794</td>\n",
       "      <td>-0.113181</td>\n",
       "      <td>0.668047</td>\n",
       "      <td>-0.682978</td>\n",
       "      <td>0.183006</td>\n",
       "      <td>-0.061668</td>\n",
       "      <td>0.124052</td>\n",
       "    </tr>\n",
       "    <tr>\n",
       "      <th>volatile acidity</th>\n",
       "      <td>-0.256131</td>\n",
       "      <td>1.000000</td>\n",
       "      <td>-0.552496</td>\n",
       "      <td>0.001918</td>\n",
       "      <td>0.061298</td>\n",
       "      <td>-0.010504</td>\n",
       "      <td>0.076470</td>\n",
       "      <td>0.022026</td>\n",
       "      <td>0.234937</td>\n",
       "      <td>-0.260987</td>\n",
       "      <td>-0.202288</td>\n",
       "      <td>-0.390558</td>\n",
       "    </tr>\n",
       "    <tr>\n",
       "      <th>citric acid</th>\n",
       "      <td>0.671703</td>\n",
       "      <td>-0.552496</td>\n",
       "      <td>1.000000</td>\n",
       "      <td>0.143577</td>\n",
       "      <td>0.203823</td>\n",
       "      <td>-0.060978</td>\n",
       "      <td>0.035533</td>\n",
       "      <td>0.364947</td>\n",
       "      <td>-0.541904</td>\n",
       "      <td>0.312770</td>\n",
       "      <td>0.109903</td>\n",
       "      <td>0.226373</td>\n",
       "    </tr>\n",
       "    <tr>\n",
       "      <th>residual sugar</th>\n",
       "      <td>0.114777</td>\n",
       "      <td>0.001918</td>\n",
       "      <td>0.143577</td>\n",
       "      <td>1.000000</td>\n",
       "      <td>0.055610</td>\n",
       "      <td>0.187049</td>\n",
       "      <td>0.203028</td>\n",
       "      <td>0.355283</td>\n",
       "      <td>-0.085652</td>\n",
       "      <td>0.005527</td>\n",
       "      <td>0.042075</td>\n",
       "      <td>0.013732</td>\n",
       "    </tr>\n",
       "    <tr>\n",
       "      <th>chlorides</th>\n",
       "      <td>0.093705</td>\n",
       "      <td>0.061298</td>\n",
       "      <td>0.203823</td>\n",
       "      <td>0.055610</td>\n",
       "      <td>1.000000</td>\n",
       "      <td>0.005562</td>\n",
       "      <td>0.047400</td>\n",
       "      <td>0.200632</td>\n",
       "      <td>-0.265026</td>\n",
       "      <td>0.371260</td>\n",
       "      <td>-0.221141</td>\n",
       "      <td>-0.128907</td>\n",
       "    </tr>\n",
       "    <tr>\n",
       "      <th>free sulfur dioxide</th>\n",
       "      <td>-0.153794</td>\n",
       "      <td>-0.010504</td>\n",
       "      <td>-0.060978</td>\n",
       "      <td>0.187049</td>\n",
       "      <td>0.005562</td>\n",
       "      <td>1.000000</td>\n",
       "      <td>0.667666</td>\n",
       "      <td>-0.021946</td>\n",
       "      <td>0.070377</td>\n",
       "      <td>0.051658</td>\n",
       "      <td>-0.069408</td>\n",
       "      <td>-0.050656</td>\n",
       "    </tr>\n",
       "    <tr>\n",
       "      <th>total sulfur dioxide</th>\n",
       "      <td>-0.113181</td>\n",
       "      <td>0.076470</td>\n",
       "      <td>0.035533</td>\n",
       "      <td>0.203028</td>\n",
       "      <td>0.047400</td>\n",
       "      <td>0.667666</td>\n",
       "      <td>1.000000</td>\n",
       "      <td>0.071269</td>\n",
       "      <td>-0.066495</td>\n",
       "      <td>0.042947</td>\n",
       "      <td>-0.205654</td>\n",
       "      <td>-0.185100</td>\n",
       "    </tr>\n",
       "    <tr>\n",
       "      <th>density</th>\n",
       "      <td>0.668047</td>\n",
       "      <td>0.022026</td>\n",
       "      <td>0.364947</td>\n",
       "      <td>0.355283</td>\n",
       "      <td>0.200632</td>\n",
       "      <td>-0.021946</td>\n",
       "      <td>0.071269</td>\n",
       "      <td>1.000000</td>\n",
       "      <td>-0.341699</td>\n",
       "      <td>0.148506</td>\n",
       "      <td>-0.496180</td>\n",
       "      <td>-0.174919</td>\n",
       "    </tr>\n",
       "    <tr>\n",
       "      <th>pH</th>\n",
       "      <td>-0.682978</td>\n",
       "      <td>0.234937</td>\n",
       "      <td>-0.541904</td>\n",
       "      <td>-0.085652</td>\n",
       "      <td>-0.265026</td>\n",
       "      <td>0.070377</td>\n",
       "      <td>-0.066495</td>\n",
       "      <td>-0.341699</td>\n",
       "      <td>1.000000</td>\n",
       "      <td>-0.196648</td>\n",
       "      <td>0.205633</td>\n",
       "      <td>-0.057731</td>\n",
       "    </tr>\n",
       "    <tr>\n",
       "      <th>sulphates</th>\n",
       "      <td>0.183006</td>\n",
       "      <td>-0.260987</td>\n",
       "      <td>0.312770</td>\n",
       "      <td>0.005527</td>\n",
       "      <td>0.371260</td>\n",
       "      <td>0.051658</td>\n",
       "      <td>0.042947</td>\n",
       "      <td>0.148506</td>\n",
       "      <td>-0.196648</td>\n",
       "      <td>1.000000</td>\n",
       "      <td>0.093595</td>\n",
       "      <td>0.251397</td>\n",
       "    </tr>\n",
       "    <tr>\n",
       "      <th>alcohol</th>\n",
       "      <td>-0.061668</td>\n",
       "      <td>-0.202288</td>\n",
       "      <td>0.109903</td>\n",
       "      <td>0.042075</td>\n",
       "      <td>-0.221141</td>\n",
       "      <td>-0.069408</td>\n",
       "      <td>-0.205654</td>\n",
       "      <td>-0.496180</td>\n",
       "      <td>0.205633</td>\n",
       "      <td>0.093595</td>\n",
       "      <td>1.000000</td>\n",
       "      <td>0.476166</td>\n",
       "    </tr>\n",
       "    <tr>\n",
       "      <th>quality</th>\n",
       "      <td>0.124052</td>\n",
       "      <td>-0.390558</td>\n",
       "      <td>0.226373</td>\n",
       "      <td>0.013732</td>\n",
       "      <td>-0.128907</td>\n",
       "      <td>-0.050656</td>\n",
       "      <td>-0.185100</td>\n",
       "      <td>-0.174919</td>\n",
       "      <td>-0.057731</td>\n",
       "      <td>0.251397</td>\n",
       "      <td>0.476166</td>\n",
       "      <td>1.000000</td>\n",
       "    </tr>\n",
       "  </tbody>\n",
       "</table>\n",
       "</div>"
      ],
      "text/plain": [
       "                      fixed acidity  volatile acidity  citric acid  \\\n",
       "fixed acidity              1.000000         -0.256131     0.671703   \n",
       "volatile acidity          -0.256131          1.000000    -0.552496   \n",
       "citric acid                0.671703         -0.552496     1.000000   \n",
       "residual sugar             0.114777          0.001918     0.143577   \n",
       "chlorides                  0.093705          0.061298     0.203823   \n",
       "free sulfur dioxide       -0.153794         -0.010504    -0.060978   \n",
       "total sulfur dioxide      -0.113181          0.076470     0.035533   \n",
       "density                    0.668047          0.022026     0.364947   \n",
       "pH                        -0.682978          0.234937    -0.541904   \n",
       "sulphates                  0.183006         -0.260987     0.312770   \n",
       "alcohol                   -0.061668         -0.202288     0.109903   \n",
       "quality                    0.124052         -0.390558     0.226373   \n",
       "\n",
       "                      residual sugar  chlorides  free sulfur dioxide  \\\n",
       "fixed acidity               0.114777   0.093705            -0.153794   \n",
       "volatile acidity            0.001918   0.061298            -0.010504   \n",
       "citric acid                 0.143577   0.203823            -0.060978   \n",
       "residual sugar              1.000000   0.055610             0.187049   \n",
       "chlorides                   0.055610   1.000000             0.005562   \n",
       "free sulfur dioxide         0.187049   0.005562             1.000000   \n",
       "total sulfur dioxide        0.203028   0.047400             0.667666   \n",
       "density                     0.355283   0.200632            -0.021946   \n",
       "pH                         -0.085652  -0.265026             0.070377   \n",
       "sulphates                   0.005527   0.371260             0.051658   \n",
       "alcohol                     0.042075  -0.221141            -0.069408   \n",
       "quality                     0.013732  -0.128907            -0.050656   \n",
       "\n",
       "                      total sulfur dioxide   density        pH  sulphates  \\\n",
       "fixed acidity                    -0.113181  0.668047 -0.682978   0.183006   \n",
       "volatile acidity                  0.076470  0.022026  0.234937  -0.260987   \n",
       "citric acid                       0.035533  0.364947 -0.541904   0.312770   \n",
       "residual sugar                    0.203028  0.355283 -0.085652   0.005527   \n",
       "chlorides                         0.047400  0.200632 -0.265026   0.371260   \n",
       "free sulfur dioxide               0.667666 -0.021946  0.070377   0.051658   \n",
       "total sulfur dioxide              1.000000  0.071269 -0.066495   0.042947   \n",
       "density                           0.071269  1.000000 -0.341699   0.148506   \n",
       "pH                               -0.066495 -0.341699  1.000000  -0.196648   \n",
       "sulphates                         0.042947  0.148506 -0.196648   1.000000   \n",
       "alcohol                          -0.205654 -0.496180  0.205633   0.093595   \n",
       "quality                          -0.185100 -0.174919 -0.057731   0.251397   \n",
       "\n",
       "                       alcohol   quality  \n",
       "fixed acidity        -0.061668  0.124052  \n",
       "volatile acidity     -0.202288 -0.390558  \n",
       "citric acid           0.109903  0.226373  \n",
       "residual sugar        0.042075  0.013732  \n",
       "chlorides            -0.221141 -0.128907  \n",
       "free sulfur dioxide  -0.069408 -0.050656  \n",
       "total sulfur dioxide -0.205654 -0.185100  \n",
       "density              -0.496180 -0.174919  \n",
       "pH                    0.205633 -0.057731  \n",
       "sulphates             0.093595  0.251397  \n",
       "alcohol               1.000000  0.476166  \n",
       "quality               0.476166  1.000000  "
      ]
     },
     "execution_count": 11,
     "metadata": {},
     "output_type": "execute_result"
    }
   ],
   "source": [
    "#Lets chcek the correaltion matrix\n",
    "df_wines.corr()"
   ]
  },
  {
   "cell_type": "code",
   "execution_count": 12,
   "metadata": {
    "ExecuteTime": {
     "end_time": "2020-11-08T12:53:35.365657Z",
     "start_time": "2020-11-08T12:53:35.307691Z"
    }
   },
   "outputs": [
    {
     "data": {
      "text/plain": [
       "5    681\n",
       "6    638\n",
       "7    199\n",
       "4     53\n",
       "8     18\n",
       "3     10\n",
       "Name: quality, dtype: int64"
      ]
     },
     "execution_count": 12,
     "metadata": {},
     "output_type": "execute_result"
    }
   ],
   "source": [
    "#Lets chcek the target variable value counts\n",
    "df_wines[\"quality\"].value_counts()"
   ]
  },
  {
   "cell_type": "code",
   "execution_count": 13,
   "metadata": {
    "ExecuteTime": {
     "end_time": "2020-11-08T12:53:36.667124Z",
     "start_time": "2020-11-08T12:53:35.374650Z"
    }
   },
   "outputs": [
    {
     "data": {
      "image/png": "[encoded data removed]",
      "text/plain": [
       "<Figure size 432x288 with 1 Axes>"
      ]
     },
     "metadata": {
      "needs_background": "light"
     },
     "output_type": "display_data"
    }
   ],
   "source": [
    "#Lets do some graphical EDA\n",
    "import seaborn as sns\n",
    "import matplotlib.pyplot as plt\n",
    "sns.barplot(x=\"quality\",y=\"alcohol\",data=df_wines)\n",
    "plt.show()\n",
    "#from below barplot it can be seen there is increasing trend in average alcohol content from 5 to 8"
   ]
  },
  {
   "cell_type": "code",
   "execution_count": 14,
   "metadata": {
    "ExecuteTime": {
     "end_time": "2020-11-08T12:53:37.115107Z",
     "start_time": "2020-11-08T12:53:36.674122Z"
    }
   },
   "outputs": [
    {
     "data": {
      "image/png": "[encoded data removed]",
      "text/plain": [
       "<Figure size 432x288 with 1 Axes>"
      ]
     },
     "metadata": {
      "needs_background": "light"
     },
     "output_type": "display_data"
    }
   ],
   "source": [
    "#Lets check the count of each type of quality\n",
    "sns.countplot(x=\"quality\",data=df_wines)\n",
    "plt.show()\n",
    "#here we can see that most of the wines of quality 5 and 6 in the datset \n",
    "#Other 3 and 8 are very very less so barplot may not give clear picture about average alcohol content as instances are very less"
   ]
  },
  {
   "cell_type": "code",
   "execution_count": 15,
   "metadata": {
    "ExecuteTime": {
     "end_time": "2020-11-08T12:53:38.348346Z",
     "start_time": "2020-11-08T12:53:37.122099Z"
    }
   },
   "outputs": [
    {
     "data": {
      "image/png": "[encoded data removed]",
      "text/plain": [
       "<Figure size 432x288 with 1 Axes>"
      ]
     },
     "metadata": {
      "needs_background": "light"
     },
     "output_type": "display_data"
    }
   ],
   "source": [
    "#Keeping in mind the above points lets check average ph content in each type of wines\n",
    "sns.barplot(x=\"quality\",y=\"pH\",data=df_wines)\n",
    "plt.show()\n",
    "#it is alomost same in each type of wine and hardly shows any variance"
   ]
  },
  {
   "cell_type": "code",
   "execution_count": 16,
   "metadata": {
    "ExecuteTime": {
     "end_time": "2020-11-08T12:53:39.066246Z",
     "start_time": "2020-11-08T12:53:38.355342Z"
    }
   },
   "outputs": [
    {
     "data": {
      "image/png": "[encoded data removed]",
      "text/plain": [
       "<Figure size 432x288 with 1 Axes>"
      ]
     },
     "metadata": {
      "needs_background": "light"
     },
     "output_type": "display_data"
    }
   ],
   "source": [
    "#Lets chcek as seen from correlation matrix above total sulfur dioxide seem to have outliers\n",
    "#Lets verify this using boxplot\n",
    "sns.boxplot(x=\"quality\",y=\"total sulfur dioxide\",data=df_wines)\n",
    "plt.show()\n",
    "#we see presence of outliers graphically here as we could see in correlation matrix"
   ]
  },
  {
   "cell_type": "code",
   "execution_count": 17,
   "metadata": {
    "ExecuteTime": {
     "end_time": "2020-11-08T12:53:40.266507Z",
     "start_time": "2020-11-08T12:53:39.073238Z"
    }
   },
   "outputs": [
    {
     "data": {
      "image/png": "[encoded data removed]",
      "text/plain": [
       "<Figure size 432x288 with 1 Axes>"
      ]
     },
     "metadata": {
      "needs_background": "light"
     },
     "output_type": "display_data"
    }
   ],
   "source": [
    "#Let's chcek the change in average residual sugar with quality\n",
    "sns.barplot(x=\"quality\",y=\"residual sugar\",data=df_wines)\n",
    "plt.show()"
   ]
  },
  {
   "cell_type": "code",
   "execution_count": 47,
   "metadata": {
    "ExecuteTime": {
     "end_time": "2020-11-08T13:59:53.886113Z",
     "start_time": "2020-11-08T13:59:53.859130Z"
    }
   },
   "outputs": [
    {
     "name": "stdout",
     "output_type": "stream",
     "text": [
      "(1599, 11)\n",
      "\n",
      "(1599, 1)\n",
      "Index(['fixed acidity', 'volatile acidity', 'citric acid', 'residual sugar',\n",
      "       'chlorides', 'free sulfur dioxide', 'total sulfur dioxide', 'density',\n",
      "       'pH', 'sulphates', 'alcohol'],\n",
      "      dtype='object')\n",
      "\n",
      "Index(['quality'], dtype='object')\n"
     ]
    }
   ],
   "source": [
    "#lets divide the dataset into input and output dataset\n",
    "\n",
    "x=df_wines.drop(columns=[\"quality\"]) \n",
    "\n",
    "y=df_wines[[\"quality\"]] ## targeted  values \n",
    "\n",
    "print(x.shape)\n",
    "print()\n",
    "print(y.shape)\n",
    "      \n",
    "print(x.columns)\n",
    "print()\n",
    "print(y.columns)\n"
   ]
  },
  {
   "cell_type": "code",
   "execution_count": 48,
   "metadata": {
    "ExecuteTime": {
     "end_time": "2020-11-08T13:59:56.659736Z",
     "start_time": "2020-11-08T13:59:56.640752Z"
    }
   },
   "outputs": [],
   "source": [
    "\n",
    "from sklearn.metrics import mean_absolute_error\n",
    "from sklearn.metrics import mean_squared_error\n",
    "from sklearn.metrics import r2_score\n",
    "from sklearn.model_selection import train_test_split\n",
    "def maxr2_score(regr,df_x,y):\n",
    "    max_r_score=0\n",
    "    for r_state in range(0,100):\n",
    "        x_train, x_test, y_train, y_test = train_test_split(x, y,random_state = r_state,test_size=0.20,stratify=y)\n",
    "        regr.fit(x_train,y_train)\n",
    "        y_pred = regr.predict(x_test)\n",
    "        r2_scr=r2_score(y_test,y_pred)\n",
    "        print(\"r2 score corresponding to \",r_state,\" is \",r2_scr)\n",
    "        if r2_scr>max_r_score:\n",
    "            max_r_score=r2_scr\n",
    "            final_r_state=r_state\n",
    "    print(\"max r2 score corresponding to \",final_r_state,\" is \",max_r_score)\n",
    "    return final_r_state"
   ]
  },
  {
   "cell_type": "code",
   "execution_count": 55,
   "metadata": {
    "ExecuteTime": {
     "end_time": "2020-11-08T16:26:44.046817Z",
     "start_time": "2020-11-08T16:26:44.035822Z"
    }
   },
   "outputs": [],
   "source": [
    "#lets make a function which evaluates the model using cross_val_score\n",
    "\n",
    "from sklearn.model_selection import cross_val_score\n",
    "def model_evaluation(model,x,y):\n",
    "    c_scores=cross_val_score(model,x,y,cv=5,scoring=\"r2\")\n",
    "    print(\"Mean r2 score for regressor: \",c_scores.mean())\n",
    "    print(\"standard deviation in r2 score for regressor: \",c_scores.std())\n",
    "    print(c_scores)"
   ]
  },
  {
   "cell_type": "code",
   "execution_count": 56,
   "metadata": {
    "ExecuteTime": {
     "end_time": "2020-11-08T16:26:58.274132Z",
     "start_time": "2020-11-08T16:26:47.392827Z"
    }
   },
   "outputs": [
    {
     "data": {
      "text/plain": [
       "{'knr__n_neighbors': 29}"
      ]
     },
     "execution_count": 56,
     "metadata": {},
     "output_type": "execute_result"
    }
   ],
   "source": [
    "#lets make use of KNN regressor\n",
    "#we will use pipeline to bring bring features to common scale\n",
    "\n",
    "from sklearn.pipeline import Pipeline\n",
    "from sklearn.neighbors import KNeighborsRegressor\n",
    "from sklearn.model_selection import GridSearchCV\n",
    "from sklearn.preprocessing import StandardScaler\n",
    "knr=KNeighborsRegressor()\n",
    "pipeline=Pipeline([(\"ss\",StandardScaler()),(\"knr\",KNeighborsRegressor())])\n",
    "parameters = {\"knr__n_neighbors\":range(2,30)}\n",
    "clf = GridSearchCV(pipeline, parameters, cv=5,scoring=\"r2\")\n",
    "clf.fit(x, y)\n",
    "clf.best_params_"
   ]
  },
  {
   "cell_type": "code",
   "execution_count": 57,
   "metadata": {
    "ExecuteTime": {
     "end_time": "2020-11-08T16:27:07.975403Z",
     "start_time": "2020-11-08T16:26:59.159813Z"
    }
   },
   "outputs": [
    {
     "name": "stdout",
     "output_type": "stream",
     "text": [
      "r2 score corresponding to  0  is  0.25539732516122904\n",
      "r2 score corresponding to  1  is  0.26559793747833216\n",
      "r2 score corresponding to  2  is  0.3404169238044774\n",
      "r2 score corresponding to  3  is  0.3706335839080719\n",
      "r2 score corresponding to  4  is  0.33913902250366024\n",
      "r2 score corresponding to  5  is  0.3701304853373192\n",
      "r2 score corresponding to  6  is  0.3421329224204668\n",
      "r2 score corresponding to  7  is  0.350121898894443\n",
      "r2 score corresponding to  8  is  0.3323848934222783\n",
      "r2 score corresponding to  9  is  0.28729893723020594\n",
      "r2 score corresponding to  10  is  0.3374297406304523\n",
      "r2 score corresponding to  11  is  0.32164599637466285\n",
      "r2 score corresponding to  12  is  0.29640669202040826\n",
      "r2 score corresponding to  13  is  0.3743510686314586\n",
      "r2 score corresponding to  14  is  0.33653916291615693\n",
      "r2 score corresponding to  15  is  0.29960978714139785\n",
      "r2 score corresponding to  16  is  0.22712016017055026\n",
      "r2 score corresponding to  17  is  0.39177866287180074\n",
      "r2 score corresponding to  18  is  0.3222035162116622\n",
      "r2 score corresponding to  19  is  0.3552495006941603\n",
      "r2 score corresponding to  20  is  0.2944169106323058\n",
      "r2 score corresponding to  21  is  0.37693807446566285\n",
      "r2 score corresponding to  22  is  0.28347480332553243\n",
      "r2 score corresponding to  23  is  0.41008905123226025\n",
      "r2 score corresponding to  24  is  0.2693729728242862\n",
      "r2 score corresponding to  25  is  0.3205772311910594\n",
      "r2 score corresponding to  26  is  0.3095537575613092\n",
      "r2 score corresponding to  27  is  0.42103706338914226\n",
      "r2 score corresponding to  28  is  0.36810092204293166\n",
      "r2 score corresponding to  29  is  0.38268682360610784\n",
      "r2 score corresponding to  30  is  0.30202556254857194\n",
      "r2 score corresponding to  31  is  0.30201219576357696\n",
      "r2 score corresponding to  32  is  0.2865219590903988\n",
      "r2 score corresponding to  33  is  0.39230175578888116\n",
      "r2 score corresponding to  34  is  0.3399496861934048\n",
      "r2 score corresponding to  35  is  0.33763012713010676\n",
      "r2 score corresponding to  36  is  0.30520794677774976\n",
      "r2 score corresponding to  37  is  0.3246195123087873\n",
      "r2 score corresponding to  38  is  0.3035512931365627\n",
      "r2 score corresponding to  39  is  0.3586065174034816\n",
      "r2 score corresponding to  40  is  0.4022910852986811\n",
      "r2 score corresponding to  41  is  0.3640604342150121\n",
      "r2 score corresponding to  42  is  0.3623867312637836\n",
      "r2 score corresponding to  43  is  0.325865472308695\n",
      "r2 score corresponding to  44  is  0.3287804535557596\n",
      "r2 score corresponding to  45  is  0.34996987464718754\n",
      "r2 score corresponding to  46  is  0.3127699846007115\n",
      "r2 score corresponding to  47  is  0.3588464796854719\n",
      "r2 score corresponding to  48  is  0.297974613552205\n",
      "r2 score corresponding to  49  is  0.30847621817871107\n",
      "r2 score corresponding to  50  is  0.30722273035455927\n",
      "r2 score corresponding to  51  is  0.2746587132928632\n",
      "r2 score corresponding to  52  is  0.31789224493856283\n",
      "r2 score corresponding to  53  is  0.3794818462682543\n",
      "r2 score corresponding to  54  is  0.34600497795161855\n",
      "r2 score corresponding to  55  is  0.3720434176847447\n",
      "r2 score corresponding to  56  is  0.3627865021116077\n",
      "r2 score corresponding to  57  is  0.31185218469342857\n",
      "r2 score corresponding to  58  is  0.3678533683043572\n",
      "r2 score corresponding to  59  is  0.2745639201911224\n",
      "r2 score corresponding to  60  is  0.3671893321922739\n",
      "r2 score corresponding to  61  is  0.3897112474327099\n",
      "r2 score corresponding to  62  is  0.3482934475887459\n",
      "r2 score corresponding to  63  is  0.35169248102296635\n",
      "r2 score corresponding to  64  is  0.25516044198777865\n",
      "r2 score corresponding to  65  is  0.32748901129209385\n",
      "r2 score corresponding to  66  is  0.2601291246391123\n",
      "r2 score corresponding to  67  is  0.3221577770345806\n",
      "r2 score corresponding to  68  is  0.3320963328265204\n",
      "r2 score corresponding to  69  is  0.34363787522740474\n",
      "r2 score corresponding to  70  is  0.3803810163131649\n",
      "r2 score corresponding to  71  is  0.3605239789596977\n",
      "r2 score corresponding to  72  is  0.28433943345771606\n",
      "r2 score corresponding to  73  is  0.2864373302359341\n",
      "r2 score corresponding to  74  is  0.31236031873825276\n",
      "r2 score corresponding to  75  is  0.3066682985711585\n",
      "r2 score corresponding to  76  is  0.3155875306303464\n",
      "r2 score corresponding to  77  is  0.3152184552648962\n",
      "r2 score corresponding to  78  is  0.3358836138765424\n",
      "r2 score corresponding to  79  is  0.3384002985952145\n",
      "r2 score corresponding to  80  is  0.26992448247678424\n",
      "r2 score corresponding to  81  is  0.3280191584122324\n",
      "r2 score corresponding to  82  is  0.33757435646691536\n",
      "r2 score corresponding to  83  is  0.36186561873788514\n",
      "r2 score corresponding to  84  is  0.3224091067518551\n",
      "r2 score corresponding to  85  is  0.32970138531218984\n",
      "r2 score corresponding to  86  is  0.3653788134239623\n",
      "r2 score corresponding to  87  is  0.19405167905593512\n",
      "r2 score corresponding to  88  is  0.25895255759982794\n",
      "r2 score corresponding to  89  is  0.38291740763147475\n",
      "r2 score corresponding to  90  is  0.3301770253074712\n",
      "r2 score corresponding to  91  is  0.3688536324769742\n",
      "r2 score corresponding to  92  is  0.3485818402191899\n",
      "r2 score corresponding to  93  is  0.3847390739570715\n",
      "r2 score corresponding to  94  is  0.2716492700529969\n",
      "r2 score corresponding to  95  is  0.3026548497145698\n",
      "r2 score corresponding to  96  is  0.3137275233199973\n",
      "r2 score corresponding to  97  is  0.30364225866843053\n",
      "r2 score corresponding to  98  is  0.29778742150277193\n",
      "r2 score corresponding to  99  is  0.31027333503392607\n",
      "max r2 score corresponding to  27  is  0.42103706338914226\n"
     ]
    },
    {
     "data": {
      "text/plain": [
       "27"
      ]
     },
     "execution_count": 57,
     "metadata": {},
     "output_type": "execute_result"
    }
   ],
   "source": [
    "pipeline_knr=Pipeline([(\"ss\",StandardScaler()),(\"knr\",KNeighborsRegressor(n_neighbors=29))])\n",
    "#knr=KNeighborsRegressor(n_neighbors=29)\n",
    "maxr2_score(pipeline_knr,x,y)"
   ]
  },
  {
   "cell_type": "code",
   "execution_count": 51,
   "metadata": {
    "ExecuteTime": {
     "end_time": "2020-11-08T14:01:29.084066Z",
     "start_time": "2020-11-08T14:00:24.002117Z"
    }
   },
   "outputs": [
    {
     "data": {
      "text/plain": [
       "{'rfr__n_estimators': 500}"
      ]
     },
     "execution_count": 51,
     "metadata": {},
     "output_type": "execute_result"
    }
   ],
   "source": [
    "#Lets use random forest regressor\n",
    "from sklearn.ensemble import RandomForestRegressor\n",
    "import warnings\n",
    "warnings.filterwarnings(\"ignore\")\n",
    "rfr=RandomForestRegressor()\n",
    "pipeline=Pipeline([(\"ss\",StandardScaler()),(\"rfr\",RandomForestRegressor())])\n",
    "parameters = {\"rfr__n_estimators\":[10,100,500]}\n",
    "clf = GridSearchCV(pipeline, parameters, cv=5,scoring=\"r2\")\n",
    "clf.fit(x,y)\n",
    "clf.best_params_"
   ]
  },
  {
   "cell_type": "code",
   "execution_count": 52,
   "metadata": {
    "ExecuteTime": {
     "end_time": "2020-11-08T14:19:08.381142Z",
     "start_time": "2020-11-08T14:01:30.105478Z"
    }
   },
   "outputs": [
    {
     "name": "stdout",
     "output_type": "stream",
     "text": [
      "r2 score corresponding to  0  is  0.44278743909928364\n",
      "r2 score corresponding to  1  is  0.436519237147026\n",
      "r2 score corresponding to  2  is  0.4174520017433133\n",
      "r2 score corresponding to  3  is  0.5497637659365806\n",
      "r2 score corresponding to  4  is  0.5396065427826644\n",
      "r2 score corresponding to  5  is  0.5304249648634414\n",
      "r2 score corresponding to  6  is  0.5055367644299918\n",
      "r2 score corresponding to  7  is  0.5248193991531689\n",
      "r2 score corresponding to  8  is  0.4333048790536167\n",
      "r2 score corresponding to  9  is  0.4951149094287042\n",
      "r2 score corresponding to  10  is  0.47300398499918483\n",
      "r2 score corresponding to  11  is  0.47852143907156675\n",
      "r2 score corresponding to  12  is  0.46172886749150144\n",
      "r2 score corresponding to  13  is  0.5010912377307242\n",
      "r2 score corresponding to  14  is  0.47894663513129976\n",
      "r2 score corresponding to  15  is  0.4547709483568074\n",
      "r2 score corresponding to  16  is  0.36426110949255364\n",
      "r2 score corresponding to  17  is  0.495804415669985\n",
      "r2 score corresponding to  18  is  0.5007357346844773\n",
      "r2 score corresponding to  19  is  0.5460987879354812\n",
      "r2 score corresponding to  20  is  0.45843350553260676\n",
      "r2 score corresponding to  21  is  0.5512779145919982\n",
      "r2 score corresponding to  22  is  0.4506591651517512\n",
      "r2 score corresponding to  23  is  0.5176103385915122\n",
      "r2 score corresponding to  24  is  0.4095998021444407\n",
      "r2 score corresponding to  25  is  0.5137783792954431\n",
      "r2 score corresponding to  26  is  0.4744568087248894\n",
      "r2 score corresponding to  27  is  0.5281415866539024\n",
      "r2 score corresponding to  28  is  0.5347725977158544\n",
      "r2 score corresponding to  29  is  0.5173414323708725\n",
      "r2 score corresponding to  30  is  0.5001676609939336\n",
      "r2 score corresponding to  31  is  0.42206183628318583\n",
      "r2 score corresponding to  32  is  0.4878255870316407\n",
      "r2 score corresponding to  33  is  0.5042871728717098\n",
      "r2 score corresponding to  34  is  0.49037294229160855\n",
      "r2 score corresponding to  35  is  0.5042002641767251\n",
      "r2 score corresponding to  36  is  0.49897463390902463\n",
      "r2 score corresponding to  37  is  0.5183300038184845\n",
      "r2 score corresponding to  38  is  0.47973138590792375\n",
      "r2 score corresponding to  39  is  0.5179361769484774\n",
      "r2 score corresponding to  40  is  0.5537442000249753\n",
      "r2 score corresponding to  41  is  0.5423344255744256\n",
      "r2 score corresponding to  42  is  0.519014966750848\n",
      "r2 score corresponding to  43  is  0.4810808338919865\n",
      "r2 score corresponding to  44  is  0.4340269648848133\n",
      "r2 score corresponding to  45  is  0.4723505833678113\n",
      "r2 score corresponding to  46  is  0.4844292788276128\n",
      "r2 score corresponding to  47  is  0.49261201534642296\n",
      "r2 score corresponding to  48  is  0.46091787025661446\n",
      "r2 score corresponding to  49  is  0.5018071742555923\n",
      "r2 score corresponding to  50  is  0.4630544829382651\n",
      "r2 score corresponding to  51  is  0.38847522962250536\n",
      "r2 score corresponding to  52  is  0.49426410427402245\n",
      "r2 score corresponding to  53  is  0.5085922876573967\n",
      "r2 score corresponding to  54  is  0.4978900686947988\n",
      "r2 score corresponding to  55  is  0.48526250513223956\n",
      "r2 score corresponding to  56  is  0.4932396059113301\n",
      "r2 score corresponding to  57  is  0.43288506643285896\n",
      "r2 score corresponding to  58  is  0.5125003783048879\n",
      "r2 score corresponding to  59  is  0.4552952701325178\n",
      "r2 score corresponding to  60  is  0.49926099192618223\n",
      "r2 score corresponding to  61  is  0.5816474621212121\n",
      "r2 score corresponding to  62  is  0.5067116160626837\n",
      "r2 score corresponding to  63  is  0.4717478986341477\n",
      "r2 score corresponding to  64  is  0.466774350696992\n",
      "r2 score corresponding to  65  is  0.5395396477300917\n",
      "r2 score corresponding to  66  is  0.4435122587120486\n",
      "r2 score corresponding to  67  is  0.5339588174491068\n",
      "r2 score corresponding to  68  is  0.4722863806353639\n",
      "r2 score corresponding to  69  is  0.5209079975387981\n",
      "r2 score corresponding to  70  is  0.4988817065563438\n",
      "r2 score corresponding to  71  is  0.5170540859998451\n",
      "r2 score corresponding to  72  is  0.49094134336312834\n",
      "r2 score corresponding to  73  is  0.4512986541471049\n",
      "r2 score corresponding to  74  is  0.5038389811075313\n",
      "r2 score corresponding to  75  is  0.3820449976727176\n",
      "r2 score corresponding to  76  is  0.45728526411467574\n",
      "r2 score corresponding to  77  is  0.47884917068059796\n",
      "r2 score corresponding to  78  is  0.5154003308074009\n",
      "r2 score corresponding to  79  is  0.4703826604981304\n",
      "r2 score corresponding to  80  is  0.4147038869397638\n",
      "r2 score corresponding to  81  is  0.4951904239698589\n",
      "r2 score corresponding to  82  is  0.44654127141960687\n",
      "r2 score corresponding to  83  is  0.5620376005041696\n",
      "r2 score corresponding to  84  is  0.46493676305363374\n",
      "r2 score corresponding to  85  is  0.44172118399748495\n",
      "r2 score corresponding to  86  is  0.5288261492537314\n",
      "r2 score corresponding to  87  is  0.3670696131228721\n",
      "r2 score corresponding to  88  is  0.43208722738325345\n",
      "r2 score corresponding to  89  is  0.4900149874434957\n",
      "r2 score corresponding to  90  is  0.47680017348162496\n",
      "r2 score corresponding to  91  is  0.48799050907671804\n",
      "r2 score corresponding to  92  is  0.5434701618924609\n",
      "r2 score corresponding to  93  is  0.5353921377194679\n",
      "r2 score corresponding to  94  is  0.4430361743462018\n",
      "r2 score corresponding to  95  is  0.42578900710958556\n",
      "r2 score corresponding to  96  is  0.453690926387316\n",
      "r2 score corresponding to  97  is  0.484568856413895\n",
      "r2 score corresponding to  98  is  0.4255646567438388\n",
      "r2 score corresponding to  99  is  0.4619562393864294\n",
      "max r2 score corresponding to  61  is  0.5816474621212121\n"
     ]
    },
    {
     "data": {
      "text/plain": [
       "61"
      ]
     },
     "execution_count": 52,
     "metadata": {},
     "output_type": "execute_result"
    }
   ],
   "source": [
    "pipeline_rfr=Pipeline([(\"ss\",StandardScaler()),(\"rfr\",RandomForestRegressor(n_estimators=500))])\n",
    "maxr2_score(pipeline_rfr,x,y)"
   ]
  },
  {
   "cell_type": "code",
   "execution_count": 25,
   "metadata": {
    "ExecuteTime": {
     "end_time": "2020-11-08T13:04:30.255965Z",
     "start_time": "2020-11-08T13:03:46.902238Z"
    }
   },
   "outputs": [
    {
     "name": "stdout",
     "output_type": "stream",
     "text": [
      "RANDOM FOREST\n",
      "\n",
      "\n",
      "Mean r2 score for regressor:  0.3189309068495606\n",
      "standard deviation in r2 score for regressor:  0.0437065145151326\n",
      "[0.25618049 0.36368066 0.36511934 0.32808025 0.2815938 ]\n"
     ]
    }
   ],
   "source": [
    "#lets chcek the cross_val_score for random forest\n",
    "print(\"RANDOM FOREST\\n\\n\")\n",
    "model_evaluation(pipeline_rfr,x,y)"
   ]
  },
  {
   "cell_type": "code",
   "execution_count": 60,
   "metadata": {
    "ExecuteTime": {
     "end_time": "2020-11-08T16:28:37.500051Z",
     "start_time": "2020-11-08T16:28:28.435307Z"
    }
   },
   "outputs": [],
   "source": [
    "## lets make the final model and save it\n",
    "x_train, x_test, y_train, y_test = train_test_split(x, y,random_state =61,test_size=0.20,stratify=y)\n",
    "pipeline_rfr.fit(x_train,y_train)\n",
    "y_pred = pipeline_rfr.predict(x_test)"
   ]
  },
  {
   "cell_type": "code",
   "execution_count": 61,
   "metadata": {
    "ExecuteTime": {
     "end_time": "2020-11-08T16:28:39.268679Z",
     "start_time": "2020-11-08T16:28:39.242699Z"
    }
   },
   "outputs": [
    {
     "name": "stdout",
     "output_type": "stream",
     "text": [
      "MSE is:  0.29151914999999995\n",
      "r2_score is:  0.5482238489012653\n"
     ]
    }
   ],
   "source": [
    "#Lets find the rmse and r2_score using sklearn.metrics for random forest model #######\n",
    "\n",
    "print(\"MSE is: \",mean_squared_error(y_test,y_pred))\n",
    "print(\"r2_score is: \",r2_score(y_test,y_pred))"
   ]
  },
  {
   "cell_type": "code",
   "execution_count": null,
   "metadata": {},
   "outputs": [],
   "source": []
  }
 ],
 "metadata": {
  "celltoolbar": "Slideshow",
  "kernelspec": {
   "display_name": "Python 3",
   "language": "python",
   "name": "python3"
  },
  "language_info": {
   "codemirror_mode": {
    "name": "ipython",
    "version": 3
   },
   "file_extension": ".py",
   "mimetype": "text/x-python",
   "name": "python",
   "nbconvert_exporter": "python",
   "pygments_lexer": "ipython3",
   "version": "3.8.3"
  },
  "nbTranslate": {
   "displayLangs": [
    "*"
   ],
   "hotkey": "alt-t",
   "langInMainMenu": true,
   "sourceLang": "en",
   "targetLang": "fr",
   "useGoogleTranslate": true
  },
  "varInspector": {
   "cols": {
    "lenName": "50",
    "lenType": "50",
    "lenVar": "52"
   },
   "kernels_config": {
    "python": {
     "delete_cmd_postfix": "",
     "delete_cmd_prefix": "del ",
     "library": "var_list.py",
     "varRefreshCmd": "print(var_dic_list())"
    },
    "r": {
     "delete_cmd_postfix": ") ",
     "delete_cmd_prefix": "rm(",
     "library": "var_list.r",
     "varRefreshCmd": "cat(var_dic_list()) "
    }
   },
   "types_to_exclude": [
    "module",
    "function",
    "builtin_function_or_method",
    "instance",
    "_Feature"
   ],
   "window_display": false
  }
 },
 "nbformat": 4,
 "nbformat_minor": 4
}
